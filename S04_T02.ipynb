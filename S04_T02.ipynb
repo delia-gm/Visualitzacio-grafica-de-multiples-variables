{
 "cells": [
  {
   "cell_type": "markdown",
   "id": "324cd454",
   "metadata": {},
   "source": [
    "# S04 T02: Visualització gràfica de Múltiples variables"
   ]
  },
  {
   "cell_type": "code",
   "execution_count": 608,
   "id": "40f6968d",
   "metadata": {},
   "outputs": [],
   "source": [
    "import numpy as np\n",
    "import pandas as pd\n",
    "\n",
    "import matplotlib as mpl\n",
    "import matplotlib.pyplot as plt\n",
    "import seaborn as sns\n",
    "import warnings\n",
    "import matplotlib.dates as mdates\n",
    "\n",
    "warnings.filterwarnings('ignore')\n",
    "\n",
    "%matplotlib inline"
   ]
  },
  {
   "cell_type": "markdown",
   "id": "bf9172e8",
   "metadata": {},
   "source": [
    "## Exercici 2: Repeteix l'exercici 1 amb el dataset que disposem en el repositori de GitHub PRE-PROCESSING-DATA, movies.dat"
   ]
  },
  {
   "cell_type": "code",
   "execution_count": 609,
   "id": "7d2a4474",
   "metadata": {},
   "outputs": [
    {
     "data": {
      "text/html": [
       "<div>\n",
       "<style scoped>\n",
       "    .dataframe tbody tr th:only-of-type {\n",
       "        vertical-align: middle;\n",
       "    }\n",
       "\n",
       "    .dataframe tbody tr th {\n",
       "        vertical-align: top;\n",
       "    }\n",
       "\n",
       "    .dataframe thead th {\n",
       "        text-align: right;\n",
       "    }\n",
       "</style>\n",
       "<table border=\"1\" class=\"dataframe\">\n",
       "  <thead>\n",
       "    <tr style=\"text-align: right;\">\n",
       "      <th></th>\n",
       "      <th>Títol</th>\n",
       "      <th>Gènere</th>\n",
       "      <th>Any</th>\n",
       "    </tr>\n",
       "  </thead>\n",
       "  <tbody>\n",
       "    <tr>\n",
       "      <th>0</th>\n",
       "      <td>Toy Story</td>\n",
       "      <td>Animation|Children's|Comedy</td>\n",
       "      <td>1995</td>\n",
       "    </tr>\n",
       "    <tr>\n",
       "      <th>1</th>\n",
       "      <td>Jumanji</td>\n",
       "      <td>Adventure|Children's|Fantasy</td>\n",
       "      <td>1995</td>\n",
       "    </tr>\n",
       "    <tr>\n",
       "      <th>2</th>\n",
       "      <td>Grumpier Old Men</td>\n",
       "      <td>Comedy|Romance</td>\n",
       "      <td>1995</td>\n",
       "    </tr>\n",
       "    <tr>\n",
       "      <th>3</th>\n",
       "      <td>Waiting to Exhale</td>\n",
       "      <td>Comedy|Drama</td>\n",
       "      <td>1995</td>\n",
       "    </tr>\n",
       "    <tr>\n",
       "      <th>4</th>\n",
       "      <td>Father of the Bride Part II</td>\n",
       "      <td>Comedy</td>\n",
       "      <td>1995</td>\n",
       "    </tr>\n",
       "  </tbody>\n",
       "</table>\n",
       "</div>"
      ],
      "text/plain": [
       "                          Títol                        Gènere   Any\n",
       "0                    Toy Story    Animation|Children's|Comedy  1995\n",
       "1                      Jumanji   Adventure|Children's|Fantasy  1995\n",
       "2             Grumpier Old Men                 Comedy|Romance  1995\n",
       "3            Waiting to Exhale                   Comedy|Drama  1995\n",
       "4  Father of the Bride Part II                         Comedy  1995"
      ]
     },
     "execution_count": 609,
     "metadata": {},
     "output_type": "execute_result"
    }
   ],
   "source": [
    "movies = pd.read_csv(\"/Users/deliagonzalezmata/Documents/IT_Academy/Sprint_4/S04_T02/Data-Science/Pre-processing-data/movies.dat\", \n",
    "                    sep=\"::\", header=None, \n",
    "                    names=[\"Num\",\"Títol\", \"Gènere\"]) \n",
    "\n",
    "# preparem el data set: \n",
    "movies = movies.drop(\"Num\", 1)\n",
    "\n",
    "movies['Any'] = movies['Títol'].str.extract(r'\\((\\d{4})\\)')\n",
    "movies.replace('\\(\\d{4}\\)', '', regex=True, inplace=True)\n",
    "movies['Any'] = pd.to_numeric(movies['Any'])\n",
    "\n",
    "\n",
    "\n",
    "movies.head()"
   ]
  },
  {
   "cell_type": "code",
   "execution_count": 610,
   "id": "9dee3599",
   "metadata": {},
   "outputs": [
    {
     "data": {
      "text/plain": [
       "(3883, 3)"
      ]
     },
     "execution_count": 610,
     "metadata": {},
     "output_type": "execute_result"
    }
   ],
   "source": [
    "movies.shape"
   ]
  },
  {
   "cell_type": "code",
   "execution_count": 611,
   "id": "a55037b7",
   "metadata": {},
   "outputs": [
    {
     "data": {
      "text/plain": [
       "2"
      ]
     },
     "execution_count": 611,
     "metadata": {},
     "output_type": "execute_result"
    }
   ],
   "source": [
    "movies.ndim"
   ]
  },
  {
   "cell_type": "code",
   "execution_count": 612,
   "id": "80a011f7",
   "metadata": {},
   "outputs": [
    {
     "data": {
      "text/plain": [
       "Index(['Títol', 'Gènere', 'Any'], dtype='object')"
      ]
     },
     "execution_count": 612,
     "metadata": {},
     "output_type": "execute_result"
    }
   ],
   "source": [
    "movies.columns"
   ]
  },
  {
   "cell_type": "code",
   "execution_count": 613,
   "id": "5d8895fa",
   "metadata": {},
   "outputs": [
    {
     "data": {
      "text/plain": [
       "Títol     object\n",
       "Gènere    object\n",
       "Any        int64\n",
       "dtype: object"
      ]
     },
     "execution_count": 613,
     "metadata": {},
     "output_type": "execute_result"
    }
   ],
   "source": [
    "movies.dtypes"
   ]
  },
  {
   "cell_type": "markdown",
   "id": "9baeb7b2",
   "metadata": {},
   "source": [
    "### <span style=color:purple>Pel•lícules per any</span>"
   ]
  },
  {
   "cell_type": "code",
   "execution_count": 614,
   "id": "f18dc487",
   "metadata": {},
   "outputs": [
    {
     "data": {
      "text/plain": [
       "1919      3\n",
       "1920      2\n",
       "1921      1\n",
       "1922      2\n",
       "1923      3\n",
       "       ... \n",
       "1996    345\n",
       "1997    315\n",
       "1998    337\n",
       "1999    283\n",
       "2000    156\n",
       "Name: Any, Length: 81, dtype: int64"
      ]
     },
     "execution_count": 614,
     "metadata": {},
     "output_type": "execute_result"
    }
   ],
   "source": [
    "pelis_per_any = movies['Any'].value_counts()\n",
    "pelis_per_any = pelis_per_any.sort_index()\n",
    "\n",
    "pelis_per_any"
   ]
  },
  {
   "cell_type": "code",
   "execution_count": 615,
   "id": "51091f11",
   "metadata": {},
   "outputs": [
    {
     "data": {
      "image/png": "[encoded data removed]",
      "text/plain": [
       "<Figure size 1440x432 with 1 Axes>"
      ]
     },
     "metadata": {
      "needs_background": "light"
     },
     "output_type": "display_data"
    }
   ],
   "source": [
    "fig,ax = plt.subplots(figsize=(20,6))\n",
    "\n",
    "sns.lineplot(data = pelis_per_any, x=pelis_per_any.index, \n",
    "             y=pelis_per_any.values, color = 'lightpink', \n",
    "             linewidth = 4.5, ax=ax)\n",
    "\n",
    "ax.ticklabel_format(useOffset=False, style='plain')\n",
    "plt.title('Pel·lícules per any', fontweight = 'bold', size = 15)\n",
    "ax.ticklabel_format(axis='both',useOffset=None)\n",
    "plt.xlim(1917, 2002)\n",
    "plt.xticks(pelis_per_any.index, rotation =90)\n",
    "ax.set_xlabel('Any')\n",
    "ax.set_ylabel('nº de pel.lícules')\n",
    "plt.show()"
   ]
  },
  {
   "cell_type": "code",
   "execution_count": 616,
   "id": "1330c6f6",
   "metadata": {},
   "outputs": [
    {
     "data": {
      "image/png": "[encoded data removed]",
      "text/plain": [
       "<Figure size 576x432 with 1 Axes>"
      ]
     },
     "metadata": {
      "needs_background": "light"
     },
     "output_type": "display_data"
    }
   ],
   "source": [
    "# HISTOGRAMA: \n",
    "fig,ax = plt.subplots(figsize=(8,6))\n",
    "\n",
    "sns.histplot(data=pelis_per_any, x=movies['Any'], color ='lightpink', bins = 25)\n",
    "ax.ticklabel_format(useOffset=False, style='plain')\n",
    "plt.xlim(1919, 2000)\n",
    "plt.show()"
   ]
  },
  {
   "cell_type": "code",
   "execution_count": 617,
   "id": "6650551f",
   "metadata": {},
   "outputs": [
    {
     "data": {
      "image/png": "[encoded data removed]",
      "text/plain": [
       "<Figure size 576x432 with 1 Axes>"
      ]
     },
     "metadata": {
      "needs_background": "light"
     },
     "output_type": "display_data"
    }
   ],
   "source": [
    "fig, ax = plt.subplots(figsize=(8,6))\n",
    "\n",
    "sns.boxenplot(data=movies, x=\"Any\", ax=ax, color = 'lightpink')\n",
    "\n",
    "plt.title('Pel·lícules per any', fontweight = 'bold')\n",
    "ax.set_xlabel('Any')\n",
    "\n",
    "plt.tight_layout()\n",
    "plt.show()"
   ]
  },
  {
   "cell_type": "markdown",
   "id": "95065abb",
   "metadata": {},
   "source": [
    "### <span style=color:purple>Pel•lícules per gènere</span>"
   ]
  },
  {
   "cell_type": "code",
   "execution_count": 618,
   "id": "59241e03",
   "metadata": {},
   "outputs": [
    {
     "data": {
      "text/html": [
       "<div>\n",
       "<style scoped>\n",
       "    .dataframe tbody tr th:only-of-type {\n",
       "        vertical-align: middle;\n",
       "    }\n",
       "\n",
       "    .dataframe tbody tr th {\n",
       "        vertical-align: top;\n",
       "    }\n",
       "\n",
       "    .dataframe thead th {\n",
       "        text-align: right;\n",
       "    }\n",
       "</style>\n",
       "<table border=\"1\" class=\"dataframe\">\n",
       "  <thead>\n",
       "    <tr style=\"text-align: right;\">\n",
       "      <th></th>\n",
       "      <th>War</th>\n",
       "      <th>Action</th>\n",
       "      <th>Animation</th>\n",
       "      <th>Mystery</th>\n",
       "      <th>Comedy</th>\n",
       "      <th>Drama</th>\n",
       "      <th>Film-Noir</th>\n",
       "      <th>Western</th>\n",
       "      <th>Children's</th>\n",
       "      <th>Fantasy</th>\n",
       "      <th>Sci-Fi</th>\n",
       "      <th>Romance</th>\n",
       "      <th>Documentary</th>\n",
       "      <th>Adventure</th>\n",
       "      <th>Musical</th>\n",
       "      <th>Horror</th>\n",
       "      <th>Thriller</th>\n",
       "      <th>Crime</th>\n",
       "    </tr>\n",
       "  </thead>\n",
       "  <tbody>\n",
       "    <tr>\n",
       "      <th>0</th>\n",
       "      <td>0</td>\n",
       "      <td>0</td>\n",
       "      <td>1</td>\n",
       "      <td>0</td>\n",
       "      <td>1</td>\n",
       "      <td>0</td>\n",
       "      <td>0</td>\n",
       "      <td>0</td>\n",
       "      <td>1</td>\n",
       "      <td>0</td>\n",
       "      <td>0</td>\n",
       "      <td>0</td>\n",
       "      <td>0</td>\n",
       "      <td>0</td>\n",
       "      <td>0</td>\n",
       "      <td>0</td>\n",
       "      <td>0</td>\n",
       "      <td>0</td>\n",
       "    </tr>\n",
       "    <tr>\n",
       "      <th>1</th>\n",
       "      <td>0</td>\n",
       "      <td>0</td>\n",
       "      <td>0</td>\n",
       "      <td>0</td>\n",
       "      <td>0</td>\n",
       "      <td>0</td>\n",
       "      <td>0</td>\n",
       "      <td>0</td>\n",
       "      <td>1</td>\n",
       "      <td>1</td>\n",
       "      <td>0</td>\n",
       "      <td>0</td>\n",
       "      <td>0</td>\n",
       "      <td>1</td>\n",
       "      <td>0</td>\n",
       "      <td>0</td>\n",
       "      <td>0</td>\n",
       "      <td>0</td>\n",
       "    </tr>\n",
       "    <tr>\n",
       "      <th>2</th>\n",
       "      <td>0</td>\n",
       "      <td>0</td>\n",
       "      <td>0</td>\n",
       "      <td>0</td>\n",
       "      <td>1</td>\n",
       "      <td>0</td>\n",
       "      <td>0</td>\n",
       "      <td>0</td>\n",
       "      <td>0</td>\n",
       "      <td>0</td>\n",
       "      <td>0</td>\n",
       "      <td>1</td>\n",
       "      <td>0</td>\n",
       "      <td>0</td>\n",
       "      <td>0</td>\n",
       "      <td>0</td>\n",
       "      <td>0</td>\n",
       "      <td>0</td>\n",
       "    </tr>\n",
       "    <tr>\n",
       "      <th>3</th>\n",
       "      <td>0</td>\n",
       "      <td>0</td>\n",
       "      <td>0</td>\n",
       "      <td>0</td>\n",
       "      <td>1</td>\n",
       "      <td>1</td>\n",
       "      <td>0</td>\n",
       "      <td>0</td>\n",
       "      <td>0</td>\n",
       "      <td>0</td>\n",
       "      <td>0</td>\n",
       "      <td>0</td>\n",
       "      <td>0</td>\n",
       "      <td>0</td>\n",
       "      <td>0</td>\n",
       "      <td>0</td>\n",
       "      <td>0</td>\n",
       "      <td>0</td>\n",
       "    </tr>\n",
       "    <tr>\n",
       "      <th>4</th>\n",
       "      <td>0</td>\n",
       "      <td>0</td>\n",
       "      <td>0</td>\n",
       "      <td>0</td>\n",
       "      <td>1</td>\n",
       "      <td>0</td>\n",
       "      <td>0</td>\n",
       "      <td>0</td>\n",
       "      <td>0</td>\n",
       "      <td>0</td>\n",
       "      <td>0</td>\n",
       "      <td>0</td>\n",
       "      <td>0</td>\n",
       "      <td>0</td>\n",
       "      <td>0</td>\n",
       "      <td>0</td>\n",
       "      <td>0</td>\n",
       "      <td>0</td>\n",
       "    </tr>\n",
       "  </tbody>\n",
       "</table>\n",
       "</div>"
      ],
      "text/plain": [
       "   War  Action  Animation  Mystery  Comedy  Drama  Film-Noir  Western  \\\n",
       "0    0       0          1        0       1      0          0        0   \n",
       "1    0       0          0        0       0      0          0        0   \n",
       "2    0       0          0        0       1      0          0        0   \n",
       "3    0       0          0        0       1      1          0        0   \n",
       "4    0       0          0        0       1      0          0        0   \n",
       "\n",
       "   Children's  Fantasy  Sci-Fi  Romance  Documentary  Adventure  Musical  \\\n",
       "0           1        0       0        0            0          0        0   \n",
       "1           1        1       0        0            0          1        0   \n",
       "2           0        0       0        1            0          0        0   \n",
       "3           0        0       0        0            0          0        0   \n",
       "4           0        0       0        0            0          0        0   \n",
       "\n",
       "   Horror  Thriller  Crime  \n",
       "0       0         0      0  \n",
       "1       0         0      0  \n",
       "2       0         0      0  \n",
       "3       0         0      0  \n",
       "4       0         0      0  "
      ]
     },
     "execution_count": 618,
     "metadata": {},
     "output_type": "execute_result"
    }
   ],
   "source": [
    "def checkForGenre(series, name):\n",
    "    list1 = []\n",
    "    for i in series:\n",
    "        if name in i:\n",
    "            list1.append(1)\n",
    "        else:\n",
    "            list1.append(0)\n",
    "    return list1\n",
    "\n",
    "def getListOfUniqueGenres(series):\n",
    "    listGenres = set()\n",
    "    for i in series.str.split('|'):\n",
    "        for j in i:\n",
    "            listGenres.add(j)\n",
    "    return listGenres\n",
    "\n",
    "listGenres = getListOfUniqueGenres(movies.Gènere)\n",
    "for genre in listGenres:\n",
    "    movies[genre] = checkForGenre(movies.Gènere, genre)\n",
    "\n",
    "df_genre = movies.iloc[:,3:]\n",
    "df_genre.head()"
   ]
  },
  {
   "cell_type": "code",
   "execution_count": 619,
   "id": "d398e3fd",
   "metadata": {},
   "outputs": [
    {
     "data": {
      "text/plain": [
       "Drama          1603\n",
       "Comedy         1200\n",
       "Action          503\n",
       "Thriller        492\n",
       "Romance         471\n",
       "Horror          343\n",
       "Adventure       283\n",
       "Sci-Fi          276\n",
       "Children's      251\n",
       "Crime           211\n",
       "War             143\n",
       "Documentary     127\n",
       "Musical         114\n",
       "Mystery         106\n",
       "Animation       105\n",
       "Western          68\n",
       "Fantasy          68\n",
       "Film-Noir        44\n",
       "dtype: int64"
      ]
     },
     "execution_count": 619,
     "metadata": {},
     "output_type": "execute_result"
    }
   ],
   "source": [
    "pelis_per_genere = df_genre.sum().sort_values(ascending=False)\n",
    "pelis_per_genere"
   ]
  },
  {
   "cell_type": "markdown",
   "id": "54d4332e",
   "metadata": {},
   "source": [
    "####  <span style=color:purple>grafiquem els gèneres per ordre d'importància</span>"
   ]
  },
  {
   "cell_type": "code",
   "execution_count": 620,
   "id": "611bf457",
   "metadata": {},
   "outputs": [
    {
     "data": {
      "image/png": "[encoded data removed]",
      "text/plain": [
       "<Figure size 720x432 with 1 Axes>"
      ]
     },
     "metadata": {
      "needs_background": "light"
     },
     "output_type": "display_data"
    }
   ],
   "source": [
    "fig, ax = plt.subplots(figsize=(10,6))\n",
    "\n",
    "sns.barplot(x=pelis_per_genere.values, y=pelis_per_genere.index, \n",
    "           ax=ax, orient ='h', palette = 'cubehelix_r');\n",
    "\n",
    "plt.title('Pel•lícules per Gènere', fontweight = 'bold', size = 15); "
   ]
  },
  {
   "cell_type": "markdown",
   "id": "a2720eaf",
   "metadata": {},
   "source": [
    "### <span style=color:purple>Número de gèneres per película </span>"
   ]
  },
  {
   "cell_type": "code",
   "execution_count": 621,
   "id": "3e9b55f3",
   "metadata": {},
   "outputs": [
    {
     "data": {
      "text/html": [
       "<div>\n",
       "<style scoped>\n",
       "    .dataframe tbody tr th:only-of-type {\n",
       "        vertical-align: middle;\n",
       "    }\n",
       "\n",
       "    .dataframe tbody tr th {\n",
       "        vertical-align: top;\n",
       "    }\n",
       "\n",
       "    .dataframe thead th {\n",
       "        text-align: right;\n",
       "    }\n",
       "</style>\n",
       "<table border=\"1\" class=\"dataframe\">\n",
       "  <thead>\n",
       "    <tr style=\"text-align: right;\">\n",
       "      <th></th>\n",
       "      <th>Títol</th>\n",
       "      <th>Gènere</th>\n",
       "      <th>Any</th>\n",
       "      <th>War</th>\n",
       "      <th>Action</th>\n",
       "      <th>Animation</th>\n",
       "      <th>Mystery</th>\n",
       "      <th>Comedy</th>\n",
       "      <th>Drama</th>\n",
       "      <th>Film-Noir</th>\n",
       "      <th>...</th>\n",
       "      <th>Fantasy</th>\n",
       "      <th>Sci-Fi</th>\n",
       "      <th>Romance</th>\n",
       "      <th>Documentary</th>\n",
       "      <th>Adventure</th>\n",
       "      <th>Musical</th>\n",
       "      <th>Horror</th>\n",
       "      <th>Thriller</th>\n",
       "      <th>Crime</th>\n",
       "      <th>num_generes</th>\n",
       "    </tr>\n",
       "  </thead>\n",
       "  <tbody>\n",
       "    <tr>\n",
       "      <th>0</th>\n",
       "      <td>Toy Story</td>\n",
       "      <td>Animation|Children's|Comedy</td>\n",
       "      <td>1995</td>\n",
       "      <td>0</td>\n",
       "      <td>0</td>\n",
       "      <td>1</td>\n",
       "      <td>0</td>\n",
       "      <td>1</td>\n",
       "      <td>0</td>\n",
       "      <td>0</td>\n",
       "      <td>...</td>\n",
       "      <td>0</td>\n",
       "      <td>0</td>\n",
       "      <td>0</td>\n",
       "      <td>0</td>\n",
       "      <td>0</td>\n",
       "      <td>0</td>\n",
       "      <td>0</td>\n",
       "      <td>0</td>\n",
       "      <td>0</td>\n",
       "      <td>3</td>\n",
       "    </tr>\n",
       "    <tr>\n",
       "      <th>1</th>\n",
       "      <td>Jumanji</td>\n",
       "      <td>Adventure|Children's|Fantasy</td>\n",
       "      <td>1995</td>\n",
       "      <td>0</td>\n",
       "      <td>0</td>\n",
       "      <td>0</td>\n",
       "      <td>0</td>\n",
       "      <td>0</td>\n",
       "      <td>0</td>\n",
       "      <td>0</td>\n",
       "      <td>...</td>\n",
       "      <td>1</td>\n",
       "      <td>0</td>\n",
       "      <td>0</td>\n",
       "      <td>0</td>\n",
       "      <td>1</td>\n",
       "      <td>0</td>\n",
       "      <td>0</td>\n",
       "      <td>0</td>\n",
       "      <td>0</td>\n",
       "      <td>3</td>\n",
       "    </tr>\n",
       "    <tr>\n",
       "      <th>2</th>\n",
       "      <td>Grumpier Old Men</td>\n",
       "      <td>Comedy|Romance</td>\n",
       "      <td>1995</td>\n",
       "      <td>0</td>\n",
       "      <td>0</td>\n",
       "      <td>0</td>\n",
       "      <td>0</td>\n",
       "      <td>1</td>\n",
       "      <td>0</td>\n",
       "      <td>0</td>\n",
       "      <td>...</td>\n",
       "      <td>0</td>\n",
       "      <td>0</td>\n",
       "      <td>1</td>\n",
       "      <td>0</td>\n",
       "      <td>0</td>\n",
       "      <td>0</td>\n",
       "      <td>0</td>\n",
       "      <td>0</td>\n",
       "      <td>0</td>\n",
       "      <td>2</td>\n",
       "    </tr>\n",
       "    <tr>\n",
       "      <th>3</th>\n",
       "      <td>Waiting to Exhale</td>\n",
       "      <td>Comedy|Drama</td>\n",
       "      <td>1995</td>\n",
       "      <td>0</td>\n",
       "      <td>0</td>\n",
       "      <td>0</td>\n",
       "      <td>0</td>\n",
       "      <td>1</td>\n",
       "      <td>1</td>\n",
       "      <td>0</td>\n",
       "      <td>...</td>\n",
       "      <td>0</td>\n",
       "      <td>0</td>\n",
       "      <td>0</td>\n",
       "      <td>0</td>\n",
       "      <td>0</td>\n",
       "      <td>0</td>\n",
       "      <td>0</td>\n",
       "      <td>0</td>\n",
       "      <td>0</td>\n",
       "      <td>2</td>\n",
       "    </tr>\n",
       "    <tr>\n",
       "      <th>4</th>\n",
       "      <td>Father of the Bride Part II</td>\n",
       "      <td>Comedy</td>\n",
       "      <td>1995</td>\n",
       "      <td>0</td>\n",
       "      <td>0</td>\n",
       "      <td>0</td>\n",
       "      <td>0</td>\n",
       "      <td>1</td>\n",
       "      <td>0</td>\n",
       "      <td>0</td>\n",
       "      <td>...</td>\n",
       "      <td>0</td>\n",
       "      <td>0</td>\n",
       "      <td>0</td>\n",
       "      <td>0</td>\n",
       "      <td>0</td>\n",
       "      <td>0</td>\n",
       "      <td>0</td>\n",
       "      <td>0</td>\n",
       "      <td>0</td>\n",
       "      <td>1</td>\n",
       "    </tr>\n",
       "  </tbody>\n",
       "</table>\n",
       "<p>5 rows × 22 columns</p>\n",
       "</div>"
      ],
      "text/plain": [
       "                          Títol                        Gènere   Any  War  \\\n",
       "0                    Toy Story    Animation|Children's|Comedy  1995    0   \n",
       "1                      Jumanji   Adventure|Children's|Fantasy  1995    0   \n",
       "2             Grumpier Old Men                 Comedy|Romance  1995    0   \n",
       "3            Waiting to Exhale                   Comedy|Drama  1995    0   \n",
       "4  Father of the Bride Part II                         Comedy  1995    0   \n",
       "\n",
       "   Action  Animation  Mystery  Comedy  Drama  Film-Noir  ...  Fantasy  Sci-Fi  \\\n",
       "0       0          1        0       1      0          0  ...        0       0   \n",
       "1       0          0        0       0      0          0  ...        1       0   \n",
       "2       0          0        0       1      0          0  ...        0       0   \n",
       "3       0          0        0       1      1          0  ...        0       0   \n",
       "4       0          0        0       1      0          0  ...        0       0   \n",
       "\n",
       "   Romance  Documentary  Adventure  Musical  Horror  Thriller  Crime  \\\n",
       "0        0            0          0        0       0         0      0   \n",
       "1        0            0          1        0       0         0      0   \n",
       "2        1            0          0        0       0         0      0   \n",
       "3        0            0          0        0       0         0      0   \n",
       "4        0            0          0        0       0         0      0   \n",
       "\n",
       "   num_generes  \n",
       "0            3  \n",
       "1            3  \n",
       "2            2  \n",
       "3            2  \n",
       "4            1  \n",
       "\n",
       "[5 rows x 22 columns]"
      ]
     },
     "execution_count": 621,
     "metadata": {},
     "output_type": "execute_result"
    }
   ],
   "source": [
    "movies['num_generes']= movies.iloc[:, 3:].sum(axis=1)\n",
    "movies.head()"
   ]
  },
  {
   "cell_type": "code",
   "execution_count": 622,
   "id": "d44b9423",
   "metadata": {},
   "outputs": [
    {
     "data": {
      "text/plain": [
       "num_generes\n",
       "1    2025\n",
       "2    1322\n",
       "3     421\n",
       "4     100\n",
       "5      14\n",
       "6       1\n",
       "Name: Títol, dtype: int64"
      ]
     },
     "execution_count": 622,
     "metadata": {},
     "output_type": "execute_result"
    }
   ],
   "source": [
    "movies_by_genere = movies.groupby('num_generes')['Títol'].count()\n",
    "movies_by_genere"
   ]
  },
  {
   "cell_type": "code",
   "execution_count": 623,
   "id": "3e9d10ec",
   "metadata": {},
   "outputs": [
    {
     "data": {
      "image/png": "[encoded data removed]",
      "text/plain": [
       "<Figure size 576x432 with 1 Axes>"
      ]
     },
     "metadata": {
      "needs_background": "light"
     },
     "output_type": "display_data"
    }
   ],
   "source": [
    "percent_genere = (movies_by_genere / movies_by_genere.sum())*100\n",
    "\n",
    "\n",
    "fig,ax = plt.subplots(figsize=(8,6))\n",
    "\n",
    "x = percent_genere.index\n",
    "y = percent_genere.values\n",
    "\n",
    "sns.barplot(x = x, y=y, ax=ax, palette = 'coolwarm')\n",
    "plt.title('Número de gèneres per peli', fontweight = 'bold')\n",
    "ax.set_xlabel('núm gèneres')\n",
    "ax.set_ylabel('Percentatge (%)')\n",
    "plt.show()"
   ]
  },
  {
   "cell_type": "markdown",
   "id": "17d2f3c0",
   "metadata": {},
   "source": [
    "### <span style=color:purple>Evolució del número de gèneres vs. anys </span>"
   ]
  },
  {
   "cell_type": "code",
   "execution_count": 624,
   "id": "caa5958c",
   "metadata": {},
   "outputs": [
    {
     "data": {
      "image/png": "[encoded data removed]",
      "text/plain": [
       "<Figure size 360x360 with 1 Axes>"
      ]
     },
     "metadata": {
      "needs_background": "light"
     },
     "output_type": "display_data"
    }
   ],
   "source": [
    "ax = sns.catplot(y='Any', x='num_generes', kind='box',\n",
    "                 data=movies)\n",
    "\n",
    "ax.set(xlabel = 'Núm. de gèneres', ylabel = 'Anys')\n",
    "plt.ticklabel_format(axis=\"y\", style=\"plain\", useOffset = False)\n",
    "plt.title(\"Número de gèneres de les pel•lícules per any\",\n",
    "                  fontsize=15, fontdict={\"weight\": \"bold\"}, pad = 20);"
   ]
  },
  {
   "cell_type": "code",
   "execution_count": 625,
   "id": "21f2b91b",
   "metadata": {},
   "outputs": [
    {
     "data": {
      "image/png": "[encoded data removed]",
      "text/plain": [
       "<Figure size 360x360 with 1 Axes>"
      ]
     },
     "metadata": {
      "needs_background": "light"
     },
     "output_type": "display_data"
    }
   ],
   "source": [
    "ax = sns.catplot(y='Any', x='num_generes', kind='box',\n",
    "                 data=movies)\n",
    "\n",
    "\n",
    "plt.ticklabel_format(axis=\"y\", style=\"plain\", useOffset = False)\n",
    "plt.title(\"Número de gèneres de les pel•lícules per any\",\n",
    "                  fontsize=15, fontdict={\"weight\": \"bold\"}, pad = 20)\n",
    "\n",
    "\n",
    "ax = sns.stripplot(y='Any', x='num_generes', data=movies, color='lightgoldenrodyellow', alpha= 0.15)\n",
    "\n",
    "ax.set(xlabel = 'Núm. de gèneres', ylabel = 'Anys');"
   ]
  }
 ],
 "metadata": {
  "kernelspec": {
   "display_name": "Python 3 (ipykernel)",
   "language": "python",
   "name": "python3"
  },
  "language_info": {
   "codemirror_mode": {
    "name": "ipython",
    "version": 3
   },
   "file_extension": ".py",
   "mimetype": "text/x-python",
   "name": "python",
   "nbconvert_exporter": "python",
   "pygments_lexer": "ipython3",
   "version": "3.8.11"
  },
  "latex_envs": {
   "LaTeX_envs_menu_present": true,
   "autoclose": false,
   "autocomplete": true,
   "bibliofile": "biblio.bib",
   "cite_by": "apalike",
   "current_citInitial": 1,
   "eqLabelWithNumbers": true,
   "eqNumInitial": 1,
   "hotkeys": {
    "equation": "Ctrl-E",
    "itemize": "Ctrl-I"
   },
   "labels_anchors": false,
   "latex_user_defs": false,
   "report_style_numbering": false,
   "user_envs_cfg": false
  }
 },
 "nbformat": 4,
 "nbformat_minor": 5
}
